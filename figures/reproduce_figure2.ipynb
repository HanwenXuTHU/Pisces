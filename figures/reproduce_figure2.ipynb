{
 "cells": [
  {
   "cell_type": "code",
   "execution_count": null,
   "metadata": {},
   "outputs": [],
   "source": [
    "from complex_heatmap_utils import *\n",
    "\n",
    "eval_modal, pred_corr, auprc_ratio_df = load_eval_modality('/home/swang/xuhw/research-projects/Pisces/figures/data/source_data.xlsx')\n",
    "single_modality_complex_heatmap(eval_modal, pred_corr, auprc_ratio_df, fig_suffix='.pdf')"
   ]
  }
 ],
 "metadata": {
  "language_info": {
   "name": "python"
  },
  "orig_nbformat": 4
 },
 "nbformat": 4,
 "nbformat_minor": 2
}
